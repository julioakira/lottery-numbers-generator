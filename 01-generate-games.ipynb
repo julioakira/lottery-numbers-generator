{
 "cells": [
  {
   "cell_type": "code",
   "execution_count": 2,
   "id": "94248ffe-4e6e-462e-b3dd-59b5b8ed657a",
   "metadata": {},
   "outputs": [],
   "source": [
    "import random"
   ]
  },
  {
   "cell_type": "code",
   "execution_count": 3,
   "id": "e9b77302-8f08-4682-8621-dc5dc44024e1",
   "metadata": {},
   "outputs": [],
   "source": [
    "def generate_game():\n",
    "    result = []\n",
    "    while len(result) < 15:\n",
    "        number = random.randint(1,25)\n",
    "        if number not in result:\n",
    "            result.append(number)\n",
    "    result.sort()\n",
    "    return result"
   ]
  },
  {
   "cell_type": "code",
   "execution_count": 4,
   "id": "8b14d818-cfb1-4afe-9218-6398e4cd0a46",
   "metadata": {},
   "outputs": [],
   "source": [
    "def multiple_games(tries):\n",
    "    result = []\n",
    "    times = 0\n",
    "    while times < tries:\n",
    "        game = generate_game()\n",
    "        if game not in result:\n",
    "            result.append(game)\n",
    "            times = times + 1\n",
    "    return result"
   ]
  },
  {
   "cell_type": "code",
   "execution_count": 5,
   "id": "54f2f60a-1562-4a47-9c5e-9ba7948f1d43",
   "metadata": {},
   "outputs": [
    {
     "data": {
      "text/plain": [
       "[[2, 3, 5, 7, 8, 9, 11, 12, 16, 17, 18, 20, 21, 22, 25],\n",
       " [2, 4, 6, 7, 8, 9, 10, 12, 13, 17, 19, 20, 22, 23, 25],\n",
       " [2, 3, 4, 5, 6, 7, 9, 11, 15, 16, 17, 19, 21, 22, 25],\n",
       " [1, 2, 3, 4, 5, 7, 12, 13, 14, 16, 17, 19, 20, 21, 23],\n",
       " [1, 2, 3, 6, 7, 8, 9, 10, 11, 14, 19, 20, 21, 23, 24],\n",
       " [1, 4, 9, 11, 12, 14, 15, 16, 18, 19, 21, 22, 23, 24, 25],\n",
       " [2, 3, 4, 5, 7, 8, 9, 11, 13, 17, 19, 20, 22, 24, 25],\n",
       " [2, 4, 5, 9, 12, 13, 14, 15, 16, 19, 20, 22, 23, 24, 25],\n",
       " [2, 4, 6, 7, 11, 12, 13, 14, 15, 18, 19, 22, 23, 24, 25],\n",
       " [2, 5, 6, 8, 9, 10, 11, 12, 13, 14, 17, 20, 21, 24, 25],\n",
       " [1, 2, 3, 10, 11, 12, 14, 15, 16, 17, 19, 20, 21, 24, 25],\n",
       " [1, 2, 3, 8, 12, 14, 15, 17, 18, 19, 20, 21, 22, 23, 24],\n",
       " [1, 5, 7, 8, 9, 11, 12, 13, 14, 15, 16, 18, 19, 21, 24],\n",
       " [1, 2, 5, 8, 9, 10, 11, 15, 16, 17, 18, 20, 21, 22, 25],\n",
       " [1, 2, 5, 6, 7, 10, 12, 13, 15, 17, 18, 19, 20, 21, 25],\n",
       " [2, 6, 7, 8, 9, 11, 12, 15, 17, 18, 20, 21, 22, 23, 24],\n",
       " [1, 2, 3, 4, 5, 7, 8, 10, 12, 13, 15, 17, 20, 21, 24],\n",
       " [2, 3, 6, 7, 8, 10, 11, 13, 14, 16, 18, 20, 22, 23, 24],\n",
       " [1, 3, 4, 8, 9, 11, 13, 14, 17, 19, 20, 21, 22, 23, 25],\n",
       " [2, 3, 6, 8, 9, 10, 11, 15, 16, 17, 18, 19, 20, 21, 25],\n",
       " [3, 4, 8, 9, 11, 13, 14, 15, 16, 18, 19, 21, 23, 24, 25]]"
      ]
     },
     "execution_count": 5,
     "metadata": {},
     "output_type": "execute_result"
    }
   ],
   "source": [
    "multiple_games(21)"
   ]
  },
  {
   "cell_type": "code",
   "execution_count": null,
   "id": "5c8bdde6-0f88-4377-a61c-1103d91f470b",
   "metadata": {},
   "outputs": [],
   "source": []
  },
  {
   "cell_type": "code",
   "execution_count": null,
   "id": "c7125874-5bdd-4555-9412-5661591095ea",
   "metadata": {},
   "outputs": [],
   "source": []
  },
  {
   "cell_type": "code",
   "execution_count": null,
   "id": "001bae93-1d9e-4d82-9379-f496166190fd",
   "metadata": {},
   "outputs": [],
   "source": []
  },
  {
   "cell_type": "code",
   "execution_count": null,
   "id": "5d543156-fab2-401b-95d9-3bee048ed904",
   "metadata": {},
   "outputs": [],
   "source": []
  },
  {
   "cell_type": "code",
   "execution_count": null,
   "id": "b06b9109-9bb7-4428-99ad-327381a66222",
   "metadata": {},
   "outputs": [],
   "source": []
  },
  {
   "cell_type": "code",
   "execution_count": null,
   "id": "83f60741-e41b-49dc-9703-329b20271d83",
   "metadata": {},
   "outputs": [],
   "source": []
  },
  {
   "cell_type": "code",
   "execution_count": null,
   "id": "a7aacd29-9ce4-4a9c-83f1-8640960d4711",
   "metadata": {},
   "outputs": [],
   "source": []
  },
  {
   "cell_type": "code",
   "execution_count": null,
   "id": "57cf147e-43e9-47f2-a902-f83951af1634",
   "metadata": {},
   "outputs": [],
   "source": []
  },
  {
   "cell_type": "code",
   "execution_count": null,
   "id": "69282dea-60fa-4135-941e-c5322cef0dd2",
   "metadata": {},
   "outputs": [],
   "source": []
  },
  {
   "cell_type": "code",
   "execution_count": null,
   "id": "38ee6959-1d26-4abf-a073-de56102be23e",
   "metadata": {},
   "outputs": [],
   "source": []
  },
  {
   "cell_type": "code",
   "execution_count": null,
   "id": "ca60b7dc-fe63-44ce-b2c1-510583e3fe97",
   "metadata": {},
   "outputs": [],
   "source": []
  },
  {
   "cell_type": "code",
   "execution_count": null,
   "id": "3810e6f6-f9f2-4f75-b549-d3d1ea965860",
   "metadata": {},
   "outputs": [],
   "source": []
  },
  {
   "cell_type": "code",
   "execution_count": null,
   "id": "b5bbdadb-f328-464f-bc7c-a1a634ca9ae3",
   "metadata": {},
   "outputs": [],
   "source": []
  },
  {
   "cell_type": "code",
   "execution_count": null,
   "id": "b31247ec-d8ce-4af3-974e-38a71ee4a415",
   "metadata": {},
   "outputs": [],
   "source": []
  }
 ],
 "metadata": {
  "kernelspec": {
   "display_name": "Python 3 (ipykernel)",
   "language": "python",
   "name": "python3"
  },
  "language_info": {
   "codemirror_mode": {
    "name": "ipython",
    "version": 3
   },
   "file_extension": ".py",
   "mimetype": "text/x-python",
   "name": "python",
   "nbconvert_exporter": "python",
   "pygments_lexer": "ipython3",
   "version": "3.8.10"
  }
 },
 "nbformat": 4,
 "nbformat_minor": 5
}
