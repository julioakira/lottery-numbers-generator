{
 "cells": [
  {
   "cell_type": "code",
   "execution_count": 17,
   "id": "94248ffe-4e6e-462e-b3dd-59b5b8ed657a",
   "metadata": {},
   "outputs": [],
   "source": [
    "import random"
   ]
  },
  {
   "cell_type": "code",
   "execution_count": 18,
   "id": "e9b77302-8f08-4682-8621-dc5dc44024e1",
   "metadata": {},
   "outputs": [],
   "source": [
    "# Range 25 for Lotofacil, 60 for Mega Sena\n",
    "# Game_Length 15 for Lotofacil, 60 for Mega Sena\n",
    "def generate_game(range, game_length):\n",
    "    result = []\n",
    "    while len(result) < game_length:\n",
    "        number = random.randint(1,range)\n",
    "        if number not in result:\n",
    "            result.append(number)\n",
    "    result.sort()\n",
    "    return result"
   ]
  },
  {
   "cell_type": "code",
   "execution_count": 19,
   "id": "8b14d818-cfb1-4afe-9218-6398e4cd0a46",
   "metadata": {},
   "outputs": [],
   "source": [
    "# Tries = amount of games we want to generate\n",
    "def multiple_games(range, game_length, tries):\n",
    "    result = []\n",
    "    times = 0\n",
    "    while times < tries:\n",
    "        game = generate_game(range, game_length)\n",
    "        if game not in result:\n",
    "            result.append(game)\n",
    "            times = times + 1\n",
    "    return result"
   ]
  },
  {
   "cell_type": "code",
   "execution_count": null,
   "id": "5c8bdde6-0f88-4377-a61c-1103d91f470b",
   "metadata": {},
   "outputs": [],
   "source": [
    "multiple_games(60,6, 4)"
   ]
  },
  {
   "cell_type": "code",
   "execution_count": null,
   "id": "c7125874-5bdd-4555-9412-5661591095ea",
   "metadata": {},
   "outputs": [],
   "source": []
  },
  {
   "cell_type": "code",
   "execution_count": null,
   "id": "001bae93-1d9e-4d82-9379-f496166190fd",
   "metadata": {},
   "outputs": [],
   "source": []
  },
  {
   "cell_type": "code",
   "execution_count": null,
   "id": "5d543156-fab2-401b-95d9-3bee048ed904",
   "metadata": {},
   "outputs": [],
   "source": []
  },
  {
   "cell_type": "code",
   "execution_count": null,
   "id": "b06b9109-9bb7-4428-99ad-327381a66222",
   "metadata": {},
   "outputs": [],
   "source": []
  },
  {
   "cell_type": "code",
   "execution_count": null,
   "id": "83f60741-e41b-49dc-9703-329b20271d83",
   "metadata": {},
   "outputs": [],
   "source": []
  },
  {
   "cell_type": "code",
   "execution_count": null,
   "id": "a7aacd29-9ce4-4a9c-83f1-8640960d4711",
   "metadata": {},
   "outputs": [],
   "source": []
  },
  {
   "cell_type": "code",
   "execution_count": null,
   "id": "57cf147e-43e9-47f2-a902-f83951af1634",
   "metadata": {},
   "outputs": [],
   "source": []
  },
  {
   "cell_type": "code",
   "execution_count": null,
   "id": "69282dea-60fa-4135-941e-c5322cef0dd2",
   "metadata": {},
   "outputs": [],
   "source": []
  },
  {
   "cell_type": "code",
   "execution_count": null,
   "id": "38ee6959-1d26-4abf-a073-de56102be23e",
   "metadata": {},
   "outputs": [],
   "source": []
  },
  {
   "cell_type": "code",
   "execution_count": null,
   "id": "ca60b7dc-fe63-44ce-b2c1-510583e3fe97",
   "metadata": {},
   "outputs": [],
   "source": []
  },
  {
   "cell_type": "code",
   "execution_count": null,
   "id": "3810e6f6-f9f2-4f75-b549-d3d1ea965860",
   "metadata": {},
   "outputs": [],
   "source": []
  },
  {
   "cell_type": "code",
   "execution_count": null,
   "id": "b5bbdadb-f328-464f-bc7c-a1a634ca9ae3",
   "metadata": {},
   "outputs": [],
   "source": []
  },
  {
   "cell_type": "code",
   "execution_count": null,
   "id": "b31247ec-d8ce-4af3-974e-38a71ee4a415",
   "metadata": {},
   "outputs": [],
   "source": []
  }
 ],
 "metadata": {
  "kernelspec": {
   "display_name": "Python 3 (ipykernel)",
   "language": "python",
   "name": "python3"
  },
  "language_info": {
   "codemirror_mode": {
    "name": "ipython",
    "version": 3
   },
   "file_extension": ".py",
   "mimetype": "text/x-python",
   "name": "python",
   "nbconvert_exporter": "python",
   "pygments_lexer": "ipython3",
   "version": "3.8.10"
  }
 },
 "nbformat": 4,
 "nbformat_minor": 5
}
