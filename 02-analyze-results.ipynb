{
 "cells": [
  {
   "cell_type": "code",
   "execution_count": 20,
   "id": "5db701c2-addf-4d23-a2bf-ebb91aafa659",
   "metadata": {},
   "outputs": [],
   "source": [
    "import pandas as pd\n",
    "import json\n",
    "\n",
    "from pathlib import Path\n",
    "from dataclasses import dataclass, field\n",
    "from typing import TypedDict, Dict, List\n",
    "from collections import Counter"
   ]
  },
  {
   "cell_type": "code",
   "execution_count": 21,
   "id": "90b38f93-a54a-4951-b171-9339f0f367a2",
   "metadata": {},
   "outputs": [],
   "source": [
    "def retrieve_data(format='raw'):\n",
    "    file_name = Path.cwd() / 'resources' / 'mega_sena_result_history.xlsx'\n",
    "    excel_data = pd.read_excel(file_name, sheet_name='mega_sena_www.asloterias.com.br')\n",
    "    excel_to_json = excel_data.to_json(orient='records')\n",
    "    json_result = json.loads(excel_to_json)\n",
    "    KEYS_TO_DELETE = ['Concurso', 'Data']\n",
    "    delete_keys = lambda d, keys: {k: v for k, v in d.items() if k not in keys}\n",
    "    extract_values = lambda d: list(d.values())\n",
    "    if (format == 'raw'):\n",
    "        return json_result\n",
    "    elif (format == 'pull'):\n",
    "        sanitized = list(map(lambda d: delete_keys(d, KEYS_TO_DELETE), json_result))\n",
    "        return sanitized\n",
    "    elif (format == 'numbers'):\n",
    "        sanitized = list(map(lambda d: delete_keys(d, KEYS_TO_DELETE), json_result))\n",
    "        numbers = list(map(lambda e: extract_values(e), sanitized))\n",
    "        return [sorted(item) for item in numbers]"
   ]
  },
  {
   "cell_type": "code",
   "execution_count": 22,
   "id": "c03ae6e2-8c7e-4470-b4fb-1cbadaaa593d",
   "metadata": {},
   "outputs": [],
   "source": [
    "def count_value_occurrences(dict_list):\n",
    "    dict_list_values = [value for d in dict_list for value in d.values()]\n",
    "    value_counter = dict(Counter(dict_list_values))\n",
    "    return dict(sorted(value_counter.items(), key=lambda item: item[1], reverse=True))"
   ]
  },
  {
   "cell_type": "code",
   "execution_count": 17,
   "id": "cd653dfd-3a95-4eab-80c4-ea7bcfa7a2d7",
   "metadata": {},
   "outputs": [],
   "source": [
    "def count_sequences(list):\n",
    "    result = []\n",
    "    for seq in list:\n",
    "        if seq not in result:\n",
    "            result.append(seq)\n",
    "    return result"
   ]
  },
  {
   "cell_type": "code",
   "execution_count": 23,
   "id": "2bc1e064-829e-4a70-8736-aeae09272ff9",
   "metadata": {},
   "outputs": [],
   "source": [
    "data = retrieve_data('pull')"
   ]
  },
  {
   "cell_type": "code",
   "execution_count": 25,
   "id": "becd73b8-9873-4a56-8ac6-7223c630a592",
   "metadata": {},
   "outputs": [
    {
     "data": {
      "text/plain": [
       "{10: 333,\n",
       " 53: 321,\n",
       " 34: 307,\n",
       " 33: 307,\n",
       " 5: 305,\n",
       " 37: 305,\n",
       " 42: 302,\n",
       " 38: 302,\n",
       " 32: 301,\n",
       " 30: 300,\n",
       " 11: 300,\n",
       " 43: 299,\n",
       " 44: 299,\n",
       " 46: 298,\n",
       " 17: 298,\n",
       " 35: 298,\n",
       " 23: 298,\n",
       " 27: 297,\n",
       " 4: 296,\n",
       " 41: 296,\n",
       " 56: 294,\n",
       " 16: 294,\n",
       " 28: 294,\n",
       " 54: 292,\n",
       " 13: 292,\n",
       " 36: 287,\n",
       " 51: 287,\n",
       " 49: 287,\n",
       " 6: 285,\n",
       " 25: 284,\n",
       " 29: 284,\n",
       " 24: 283,\n",
       " 2: 283,\n",
       " 52: 283,\n",
       " 45: 281,\n",
       " 50: 280,\n",
       " 20: 280,\n",
       " 8: 279,\n",
       " 59: 277,\n",
       " 1: 276,\n",
       " 58: 276,\n",
       " 14: 274,\n",
       " 19: 274,\n",
       " 57: 273,\n",
       " 47: 272,\n",
       " 39: 272,\n",
       " 60: 272,\n",
       " 18: 271,\n",
       " 12: 269,\n",
       " 7: 268,\n",
       " 9: 267,\n",
       " 3: 263,\n",
       " 40: 263,\n",
       " 48: 262,\n",
       " 31: 260,\n",
       " 22: 254,\n",
       " 15: 246,\n",
       " 55: 242,\n",
       " 21: 239,\n",
       " 26: 235}"
      ]
     },
     "execution_count": 25,
     "metadata": {},
     "output_type": "execute_result"
    }
   ],
   "source": [
    "count_value_occurrences(data)"
   ]
  },
  {
   "cell_type": "code",
   "execution_count": null,
   "id": "ee0457c5-a12a-4943-b1b4-9b2d63c5c936",
   "metadata": {},
   "outputs": [],
   "source": []
  }
 ],
 "metadata": {
  "kernelspec": {
   "display_name": "Python 3 (ipykernel)",
   "language": "python",
   "name": "python3"
  },
  "language_info": {
   "codemirror_mode": {
    "name": "ipython",
    "version": 3
   },
   "file_extension": ".py",
   "mimetype": "text/x-python",
   "name": "python",
   "nbconvert_exporter": "python",
   "pygments_lexer": "ipython3",
   "version": "3.8.17"
  }
 },
 "nbformat": 4,
 "nbformat_minor": 5
}
